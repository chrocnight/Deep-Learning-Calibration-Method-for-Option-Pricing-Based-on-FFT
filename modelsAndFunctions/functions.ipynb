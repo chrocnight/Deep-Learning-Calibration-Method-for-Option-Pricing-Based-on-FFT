{
 "cells": [
  {
   "cell_type": "code",
   "execution_count": 1,
   "metadata": {},
   "outputs": [],
   "source": [
    "import numpy as np\n",
    "import torch\n",
    "from torch import log, sqrt, exp\n",
    "from scipy.stats import norm"
   ]
  },
  {
   "cell_type": "markdown",
   "metadata": {},
   "source": [
    "Z—score Normalization的特点：\n",
    "均值为0，标准差为1，适合无量纲比较"
   ]
  },
  {
   "cell_type": "code",
   "execution_count": 4,
   "metadata": {},
   "outputs": [],
   "source": [
    "class Normalization:\n",
    "    def __init__(self, mean_val=None, std_val=None):\n",
    "        self.mean_val = mean_val\n",
    "        self.std_val = std_val\n",
    "    \n",
    "    # 将x归一化--提高收敛速度和稳定性\n",
    "    def normalize(self, x):\n",
    "        return (x-self.mean_val)/self.std_val # z-score归一化\n",
    "\n",
    "\n",
    "    \n",
    "    # 反归一化\n",
    "    def unnormalize(self, x):\n",
    "        return x*self.std_val + self.mean_val\n",
    "    "
   ]
  },
  {
   "cell_type": "markdown",
   "metadata": {},
   "source": [
    "1.计算两个信号 x（参考信号）和y（估计信号）之间的相关性(corr) 平均绝对误差（MAP） 和平均绝对百分比误差 \n",
    "$$ cov(x,y) = \\frac{1}{n}\\sum(x_i-\\mu_x)(y_{i}-\\mu_{y}) \\tag{eq.1}$$\n",
    "\n",
    "\n",
    "2.Pearson 相关系数\n",
    "$$corr = \\frac{cov(x,y)}{\\sigma_{x}\\sigma_{y}}([-1,1]) \\tag{eq.2}$$\n",
    "\n",
    "3.MAP(MAE, Mean Absolute Error) MAPE( Mean Absolute Error Percentage )\n",
    "$$MAP=\\frac{1}{n}\\sum^{n}_{i=1}|x_{i}-y_{i}| \\tag{eq.3}$$\n",
    "\n",
    "4.MAPE(绝对百分比误差)\n",
    "$$MAPE=\\frac{1}{n}\\sum^{n}_{i=1}|\\frac{x_{i}-y_{i}}{x_{i}}| \\tag{eq.4} $$\n"
   ]
  },
  {
   "cell_type": "code",
   "execution_count": 5,
   "metadata": {},
   "outputs": [],
   "source": [
    "def metrics(y, x):\n",
    "    #x: reference signal 参考信号\n",
    "    #y: estimated signal 预测（估计）信号\n",
    "    if torch.is_tensor(x):\n",
    "        # 检查 x 是否位于GPU上\n",
    "        if x.is_cuda:\n",
    "            # 如果 x 位于GPU上，将其移动到CPU上\n",
    "            # 因为numpy不支持GPU上的张量，必须将\n",
    "            # 张量全部移动到CPU上 才能转化为NumPy数组\n",
    "            x = x.cpu()\n",
    "        x = x.numpy()\n",
    "    if torch.is_tensor(y):\n",
    "        if y.is_cuda:\n",
    "            y = y.cpu()\n",
    "        y = y.numpy()\n",
    "    \n",
    "    # correlation\n",
    "    # keepdims=True 保持维度不变，避免降维\n",
    "    x_mean = np.mean(x, axis=0, keepdims=True)\n",
    "    y_mean = np.mean(y, axis=0, keepdims=True)\n",
    "    x_std = np.std(x, axis=0, keepdims=True)\n",
    "    y_std = np.std(y, axis=0, keepdims=True)\n",
    "    corr = np.mean((x-x_mean)*(y-y_mean), axis=0, keepdims=True)/(x_std*y_std)\n",
    "    \n",
    "    # MAP\n",
    "    map = np.mean(np.abs(x-y), axis=0, keepdims=True)\n",
    "\n",
    "    # MAPE\n",
    "    mape = np.mean(np.abs((x - y)/x), axis=0, keepdims=True)\n",
    "    \n",
    "    return torch.tensor(corr), torch.tensor(map), torch.tensor(mape)\n",
    "        \n",
    "    "
   ]
  },
  {
   "cell_type": "markdown",
   "metadata": {},
   "source": [
    "$$B-S(call \\ option) \\\\\n",
    "spot--S \\\\\n",
    "maturity--T \\\\\n",
    "vol--sigma \\\\$$\n",
    "$$C=S·N(d_1) - K·e^{-rT}· N(d_2)$$\n",
    "$$\\Phi(x)=\\frac{1}{\\sqrt{2\\pi}}\\int^{x}_{-\\infty}e^{-\\frac{t^2}{2}}dt $$\n",
    "$$ d_{1}=\\frac{\\ln(S/K)+(r+\\sigma^2/2)T}{\\sigma\\sqrt{T}} \\tag{eq.5}$$"
   ]
  },
  {
   "cell_type": "code",
   "execution_count": 6,
   "metadata": {},
   "outputs": [],
   "source": [
    "def call_option_pricer(spot, strike, maturity, r, vol):\n",
    "    d1 = (log(spot / strike) + (r + 0.5 * vol * vol) * maturity) / (vol * sqrt(maturity))\n",
    "    d2 = d1 - vol * sqrt(maturity)\n",
    "    \n",
    "    price = spot * norm.cdf(d1) - strike * exp(-r * maturity) * norm.cdf(d2)\n",
    "    return price"
   ]
  },
  {
   "cell_type": "markdown",
   "metadata": {},
   "source": [
    "B-S (put option)\n",
    "$$P = K·e^{-rT}·N(-d_{2})- S·N(-d_1) \\tag{eq.6}$$"
   ]
  },
  {
   "cell_type": "code",
   "execution_count": 7,
   "metadata": {},
   "outputs": [],
   "source": [
    "def put_option_pricer(spot, strike, maturity, r, vol):\n",
    "    d1 = (log(spot / strike) + (r + 0.5 * vol * vol) * maturity) / (vol * sqrt(maturity)) \n",
    "    d2 = d1 - vol * sqrt(maturity)\n",
    "    \n",
    "    price = -spot * norm.cdf(-d1) + strike * exp(-r*maturity) * norm.cdf(-d2)\n",
    "    return price\n",
    "    "
   ]
  }
 ],
 "metadata": {
  "kernelspec": {
   "display_name": "Python 3",
   "language": "python",
   "name": "python3"
  },
  "language_info": {
   "codemirror_mode": {
    "name": "ipython",
    "version": 3
   },
   "file_extension": ".py",
   "mimetype": "text/x-python",
   "name": "python",
   "nbconvert_exporter": "python",
   "pygments_lexer": "ipython3",
   "version": "3.12.8"
  }
 },
 "nbformat": 4,
 "nbformat_minor": 2
}
