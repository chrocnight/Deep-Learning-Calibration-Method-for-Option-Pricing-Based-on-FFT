{
 "cells": [
  {
   "cell_type": "code",
   "execution_count": 1,
   "metadata": {},
   "outputs": [],
   "source": [
    "import torch\n",
    "import torch.nn as nn\n",
    "from torch.nn.utils import weight_norm\n",
    "from torch.nn.functional import conv1d"
   ]
  },
  {
   "cell_type": "code",
   "execution_count": 2,
   "metadata": {},
   "outputs": [],
   "source": [
    "class LSTM(nn.Module):\n",
    "    def __init__(self, in_dim=5, in_channels=3, out_dim=1, seq_len=10):\n",
    "        super(LSTM, self).__init__()\n",
    "        self.lstm = nn.LSTM(input_size=in_channels * in_dim,\n",
    "                          hidden_size=8,\n",
    "                          num_layers=3,\n",
    "                          batch_first=True,\n",
    "                          bidirectional=True)\n",
    "        self.out = nn.Linear(in_features=16*seq_len, out_features=out_dim)\n",
    "\n",
    "        for m in self.modules():\n",
    "            if isinstance(m, nn.Conv1d) or isinstance(m, nn.ConvTranspose1d):\n",
    "                nn.init.xavier_uniform_(m.weight.data)\n",
    "                m.bias.data.zero_()\n",
    "            elif isinstance(m, nn.GroupNorm):\n",
    "                m.weight.data.fill_(1)\n",
    "                m.bias.data.zero_()\n",
    "            elif isinstance(m, nn.Linear):\n",
    "                m.bias.data.zero_()\n",
    "\n",
    "    # shape of the input:(N, C, T, D_in)\n",
    "    # shape of the label:(N, 1)\n",
    "    def forward(self, x):\n",
    "        # x:(N, C, T, D)\n",
    "        x = x.transpose(1, 2)\n",
    "        # x:(N, T, C, D_in)\n",
    "        x = x.reshape(x.shape[0], x.shape[1], x.shape[2] * x.shape[3])\n",
    "        # x:(N, T, C*D_in)\n",
    "        x, _ = self.lstm(x)\n",
    "        # x:(N, T, 16)\n",
    "\n",
    "        x = x.reshape(x.shape[0], x.shape[1]*x.shape[2])\n",
    "        x = self.out(x).squeeze()\n",
    "        # x:(N, 1)\n",
    "        return x"
   ]
  },
  {
   "cell_type": "code",
   "execution_count": 3,
   "metadata": {},
   "outputs": [
    {
     "name": "stdout",
     "output_type": "stream",
     "text": [
      "torch.Size([16])\n"
     ]
    }
   ],
   "source": [
    "# test\n",
    "if __name__ == '__main__':\n",
    "    # (N, C, T, D_in)\n",
    "    data_input = torch.normal(0, 1, size=(16, 3, 10, 5))\n",
    "    model = LSTM()\n",
    "    data_output = model(data_input)\n",
    "    print(data_output.shape)"
   ]
  }
 ],
 "metadata": {
  "kernelspec": {
   "display_name": "Python 3",
   "language": "python",
   "name": "python3"
  },
  "language_info": {
   "codemirror_mode": {
    "name": "ipython",
    "version": 3
   },
   "file_extension": ".py",
   "mimetype": "text/x-python",
   "name": "python",
   "nbconvert_exporter": "python",
   "pygments_lexer": "ipython3",
   "version": "3.12.8"
  }
 },
 "nbformat": 4,
 "nbformat_minor": 2
}
