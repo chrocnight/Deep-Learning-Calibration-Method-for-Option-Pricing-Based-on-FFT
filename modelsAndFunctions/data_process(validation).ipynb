{
 "cells": [
  {
   "cell_type": "code",
   "execution_count": 1,
   "metadata": {},
   "outputs": [],
   "source": [
    "import pandas as pd\n",
    "import numpy as np\n",
    "import torch\n",
    "# 进度条库\n",
    "from tqdm import trange\n",
    "from sklearn.model_selection import train_test_split\n",
    "import os"
   ]
  },
  {
   "cell_type": "code",
   "execution_count": 2,
   "metadata": {},
   "outputs": [],
   "source": [
    "def process_data(data, seq_len=10):\n",
    "    \"\"\"修复了numpy类型转换问题的数据处理函数\"\"\"\n",
    "    inputs = []\n",
    "    labels = []\n",
    "    \n",
    "    for opt_id in trange(data['optID'].unique().shape[0]):\n",
    "        opt_data = data[data['optID'] == data['optID'].unique()[opt_id]]\n",
    "        opt_values = opt_data.iloc[:, 3:19].values.astype(np.float64)  # 提前转换类型\n",
    "        \n",
    "        for i in range(len(opt_values) - seq_len + 1):\n",
    "            # 创建3x10x5的张量\n",
    "            input_tensor = torch.zeros((3, seq_len, 5), dtype=torch.float64)\n",
    "            \n",
    "            # 通道0: 基础期权数据 (列3-8)\n",
    "            input_tensor[0] = torch.from_numpy(opt_values[i:i+seq_len, 0:5])\n",
    "            \n",
    "            # 通道1: 希腊字母数据 (列8-13)\n",
    "            input_tensor[1] = torch.from_numpy(opt_values[i:i+seq_len, 5:10])\n",
    "            \n",
    "            # 通道2: 价格数据 (列13-18)\n",
    "            input_tensor[2] = torch.from_numpy(opt_values[i:i+seq_len, 10:15])\n",
    "            \n",
    "            # 标签: 第10天的settlePrice (列18)\n",
    "            labels.append(torch.tensor(opt_values[i+seq_len-1, 15], dtype=torch.float64))\n",
    "            inputs.append(input_tensor)\n",
    "    \n",
    "    return torch.stack(inputs), torch.stack(labels)"
   ]
  },
  {
   "cell_type": "code",
   "execution_count": 3,
   "metadata": {},
   "outputs": [],
   "source": [
    "def save_data(data, path):\n",
    "    \"\"\"保存数据到指定路径\"\"\"\n",
    "    os.makedirs(os.path.dirname(path), exist_ok=True)\n",
    "    torch.save(data, path)"
   ]
  },
  {
   "cell_type": "code",
   "execution_count": null,
   "metadata": {},
   "outputs": [],
   "source": [
    "# 删除lewis_fft_results.csv中的strike列\n",
    "import pandas as pd\n",
    "\n",
    "# 读取文件\n",
    "df = pd.read_csv(r'.\\3DTensor-basedDL4OptionPricing\\data_ipynb\\lewis_fft_results.csv')\n",
    "\n",
    "# 删除strike列（方法1：直接drop）\n",
    "df.drop(columns=['strike'], inplace=True)\n",
    "\n",
    "# 保存修改后的文件（覆盖原文件）\n",
    "df.to_csv(r'.\\3DTensor-basedDL4OptionPricing\\data_ipynb\\lewis_fft_results.csv', index=False)"
   ]
  },
  {
   "cell_type": "code",
   "execution_count": null,
   "metadata": {},
   "outputs": [],
   "source": [
    "# 主数据处理流程\n",
    "def main():\n",
    "    # 1. 加载原始数据\n",
    "    train_data = pd.read_csv(r\".\\3DTensor-basedDL4OptionPricing\\data_ipynb\\train_data.csv\")\n",
    "    test_data = pd.read_csv(r\".\\3DTensor-basedDL4OptionPricing\\data_ipynb\\test_data(lewis_fft).csv\")\n",
    "\n",
    "    # 2. 划分训练集和验证集 (80%训练, 20%验证)\n",
    "    train_data, val_data = train_test_split(\n",
    "        train_data, \n",
    "        test_size=0.2, \n",
    "        random_state=42,\n",
    "        stratify=train_data['optID']  # 按期权ID分层抽样\n",
    "    )\n",
    "\n",
    "    # 3. 处理三个数据集\n",
    "    print(\"Processing training data...\")\n",
    "    train_input, train_label = process_data(train_data)\n",
    "    \n",
    "    print(\"Processing validation data...\")\n",
    "    val_input, val_label = process_data(val_data)\n",
    "    \n",
    "    print(\"Processing test data...\")\n",
    "    test_input, test_label = process_data(test_data)\n",
    "\n",
    "    # 4. 保存数据\n",
    "    base_path = r\".\\3DTensor-basedDL4OptionPricing\\data_ipynb\\torch-data-ipynb\"\n",
    "    \n",
    "    save_data(train_input, os.path.join(base_path, \"train_input(V).pt\"))\n",
    "    save_data(train_label, os.path.join(base_path, \"train_label(V).pt\"))\n",
    "    \n",
    "    save_data(val_input, os.path.join(base_path, \"val_input.pt\"))\n",
    "    save_data(val_label, os.path.join(base_path, \"val_label.pt\"))\n",
    "    \n",
    "    # train 和validation数据都是从 train_data.csv中划分的\n",
    "    # test数据是从 test_data(lewis_fft).csv中处理的\n",
    "    save_data(test_input, os.path.join(base_path, \"test_input(lewis_fft).pt\"))\n",
    "    save_data(test_label, os.path.join(base_path, \"test_label(lewis-fft).pt\"))\n",
    "\n",
    "    # 5. 打印数据形状验证\n",
    "    print(\"\\nData shapes:\")\n",
    "    print(f\"Train inputs: {train_input.shape}, labels: {train_label.shape}\")\n",
    "    print(f\"Validation inputs: {val_input.shape}, labels: {val_label.shape}\")\n",
    "    print(f\"Test inputs: {test_input.shape}, labels: {test_label.shape}\")"
   ]
  },
  {
   "cell_type": "code",
   "execution_count": 14,
   "metadata": {},
   "outputs": [
    {
     "name": "stderr",
     "output_type": "stream",
     "text": [
      "C:\\Users\\86166\\AppData\\Local\\Temp\\ipykernel_18324\\4086440425.py:5: DtypeWarning: Columns (2) have mixed types. Specify dtype option on import or set low_memory=False.\n",
      "  test_data = pd.read_csv(r\"E:\\pyProjects\\3DTensor-basedDL4OptionPricing\\data_ipynb\\test_data(lewis_fft).csv\")\n"
     ]
    },
    {
     "name": "stdout",
     "output_type": "stream",
     "text": [
      "Processing training data...\n"
     ]
    },
    {
     "name": "stderr",
     "output_type": "stream",
     "text": [
      "100%|██████████| 600/600 [00:01<00:00, 476.73it/s]\n"
     ]
    },
    {
     "name": "stdout",
     "output_type": "stream",
     "text": [
      "Processing validation data...\n"
     ]
    },
    {
     "name": "stderr",
     "output_type": "stream",
     "text": [
      "100%|██████████| 600/600 [00:00<00:00, 1790.37it/s]\n"
     ]
    },
    {
     "name": "stdout",
     "output_type": "stream",
     "text": [
      "Processing test data...\n"
     ]
    },
    {
     "name": "stderr",
     "output_type": "stream",
     "text": [
      "100%|██████████| 229/229 [00:02<00:00, 102.33it/s]\n"
     ]
    },
    {
     "name": "stdout",
     "output_type": "stream",
     "text": [
      "\n",
      "Data shapes:\n",
      "Train inputs: torch.Size([25488, 3, 10, 5]), labels: torch.Size([25488])\n",
      "Validation inputs: torch.Size([2996, 3, 10, 5]), labels: torch.Size([2996])\n",
      "Test inputs: torch.Size([11386, 3, 10, 5]), labels: torch.Size([11386])\n"
     ]
    }
   ],
   "source": [
    "\n",
    "if __name__ == \"__main__\":\n",
    "    main()"
   ]
  }
 ],
 "metadata": {
  "kernelspec": {
   "display_name": "venv",
   "language": "python",
   "name": "python3"
  },
  "language_info": {
   "codemirror_mode": {
    "name": "ipython",
    "version": 3
   },
   "file_extension": ".py",
   "mimetype": "text/x-python",
   "name": "python",
   "nbconvert_exporter": "python",
   "pygments_lexer": "ipython3",
   "version": "3.11.9"
  }
 },
 "nbformat": 4,
 "nbformat_minor": 2
}
