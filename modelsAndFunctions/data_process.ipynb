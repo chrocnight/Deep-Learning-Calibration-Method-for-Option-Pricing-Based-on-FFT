{
 "cells": [
  {
   "cell_type": "code",
   "execution_count": null,
   "metadata": {},
   "outputs": [],
   "source": [
    "import pandas as pd\n",
    "import numpy as np\n",
    "import torch\n",
    "# 进度条库\n",
    "from tqdm import trange\n",
    "\n",
    "# load data from csvfile \n",
    "# train_data = pd.read_csv(r\".\\3DTensor-basedDL4OptionPricing\\data_ipynb\\train_data.csv\")\n",
    "test_data = pd.read_csv(r\".\\3DTensor-basedDL4OptionPricing\\data_ipynb\\lewis_fft_results.csv\")\n",
    "\n",
    "train_input = []\n",
    "train_label = []\n",
    "seq_len = 10"
   ]
  },
  {
   "cell_type": "code",
   "execution_count": null,
   "metadata": {},
   "outputs": [],
   "source": [
    "num = train_data['optID'].unique().shape[0]"
   ]
  },
  {
   "cell_type": "code",
   "execution_count": 3,
   "metadata": {},
   "outputs": [
    {
     "name": "stdout",
     "output_type": "stream",
     "text": [
      "600\n"
     ]
    }
   ],
   "source": [
    "print(num)"
   ]
  },
  {
   "cell_type": "markdown",
   "metadata": {},
   "source": [
    "所以说，只有**train_data.csv**中也只有600支期权"
   ]
  },
  {
   "cell_type": "code",
   "execution_count": null,
   "metadata": {},
   "outputs": [],
   "source": [
    "# .shape[0] 获取唯一optID的数量（去重后的）\n",
    "for i in trange(train_data['optID'].unique().shape[0]):\n",
    "    for index in range(train_data.loc[(train_data['optID'] == train_data['optID'].unique()[i])].shape[0] - seq_len+1):\n",
    "        # 创建一个 3x10x5的零张量 表示每个输入数据的形状 其中3是通道数channels, 10是观察数， 5是变量(Delta Gamma Theta Vega Rho)\n",
    "        # （3,10，5）--->(C,N,D)\n",
    "        # 其中C=3 channels;D=5 number of variables;N=10 number of observations\n",
    "        # unique()[i]取出第i个optID\n",
    "        # train_data.loc[(train_data['optID'] == train_data['optID'].unique()[i])] 筛选出train_data里optID等于\n",
    "        # 当前unique()[i]的所有数据\n",
    "        # .shape[0]获取行数\n",
    "        # 3 channels -- fundamental data: spot price | strike price | day to expire | call or put | iV\n",
    "        # data of price: previous settle price | settle price change | theory price | theory margin | inventory(添头，为保持数据维度)\n",
    "        # data of greeks：Delta Gamma Theta Vega Rho\n",
    "        input = torch.zeros((3, 10, 5))\n",
    "        tmp_input = np.array(train_data.loc[(train_data['optID'] == train_data['optID'].unique()[i])][index:index+seq_len])\n",
    "        # tmp_input[0:seq_len, 3:8] 提取的是 第4列到第8列的数据， 对应着\n",
    "        # inventory(k)库存 contractType dayToExpire iv strikeprice\n",
    "        # 创建一个 3x10x5的零张量 表示每个输入数据的形状 其中3是通道数channels, 10是观察数， 5是变量(Delta Gamma Theta Vega Rho)\n",
    "        # （3,10，5）--->(C,N,D)\n",
    "        # 其中C=3 channels;D=5 number of variables;N=10 number of observations（用过去十天的期权数据预测期权数据）\n",
    "        input[0, :] = torch.tensor(np.array(tmp_input[0:seq_len, 3:8], dtype=np.float64))\n",
    "        # 4:8--inventory(k)//contractType//dayToExpire(days)//iv//strikeprice\n",
    "        # 拿optID=10001025举例，就是\n",
    "        ''' day1: [3.275, 0, 72, 25.4, 2.651]\n",
    "            day2: [3.495, 0, 71, 24.9, 2.651]\n",
    "            ...\n",
    "            day10: [3.76, 0, 54, 25.8, 2.651]\n",
    "        '''\n",
    "        input[1, :] = torch.tensor(np.array(tmp_input[0:seq_len, 8:13], dtype=np.float64))\n",
    "        # 9:13---delta//gamma//rho//theta//vega 所以channel 2====greeks\n",
    "        '''\n",
    "            day1: [1, 0, 0.0052, -3.00E-04, 0]\n",
    "            day2: [0.0442, 35.7966, 2.00E-04, 0, 0.0011]\n",
    "            ...\n",
    "            day10: [0.5114, 2.1162, 0.0019, -8.00E-04, 0.004]\n",
    "        '''\n",
    "        input[2, :] = torch.tensor(np.array(tmp_input[0:seq_len, 13:18], dtype=np.float64))\n",
    "                #14:18----pre_settlePrice(前结算价)//settlePirce_chg(结算价变动)//spotPrice(现货价格)//theoryMargin(理论保证金)//theoryPrice(理论价格)\n",
    "        '''\n",
    "        整体张量input(3,10,5)为:\n",
    "        input = [\n",
    "    # 通道 0：基本期权数据\n",
    "    [\n",
    "        [3.275, 0, 72, 25.4, 2.651],  # 第 1 天\n",
    "        [3.495, 0, 71, 24.9, 2.651],  # 第 2 天\n",
    "        ...\n",
    "        [3.76, 0, 54, 25.8, 2.651]    # 第 10 天\n",
    "    ],\n",
    "    # 通道 1：希腊字母数据\n",
    "    [\n",
    "        [1, 0, 0.0052, -3.00E-04, 0],  # 第 1 天\n",
    "        [0.0442, 35.7966, 2.00E-04, 0, 0.0011],  # 第 2 天\n",
    "        ...\n",
    "        [0.5114, 2.1162, 0.0019, -8.00E-04, 0.004]  # 第 10 天\n",
    "    ],\n",
    "    # 通道 2：其他金融数据\n",
    "    [\n",
    "        [0.1653, -20.4, 2.655, -0.1068, 0.0248],  # 第 1 天\n",
    "        [0.1303, -13.4, 2.626, -0.1128, 0],  # 第 2 天\n",
    "        ...\n",
    "        [0.114, -8.9, 2.634, -0.0293, 0.0745]  # 第 10 天\n",
    "    ]\n",
    "]\n",
    "        '''\n",
    "        label = torch.tensor(np.array(tmp_input[seq_len-1, 18], dtype=np.float64))\n",
    "        train_input.append(input)\n",
    "        train_label.append(label)"
   ]
  },
  {
   "cell_type": "markdown",
   "metadata": {},
   "source": [
    "因为一个31个滑动窗口，最后一个滑动窗口是 31th条数据-40th数据\n",
    "最终的 train_input应该长这样\n",
    "\n",
    "    train_input = [\n",
    "    input_1,  # 第 1 天到第 10 天的数据\n",
    "    input_2,  # 第 2 天到第 11 天的数据\n",
    "    input_3,  # 第 3 天到第 12 天的数据\n",
    "    ...\n",
    "    input_31  # 第 31 天到第 40 天的数据\n",
    "]"
   ]
  },
  {
   "cell_type": "code",
   "execution_count": 4,
   "metadata": {},
   "outputs": [],
   "source": [
    "zeros = torch.zeros((len(train_input), 3, 10, 5))"
   ]
  },
  {
   "cell_type": "code",
   "execution_count": 5,
   "metadata": {},
   "outputs": [
    {
     "name": "stdout",
     "output_type": "stream",
     "text": [
      "0\n"
     ]
    }
   ],
   "source": [
    "print(zeros.shape[0])"
   ]
  },
  {
   "cell_type": "code",
   "execution_count": 6,
   "metadata": {},
   "outputs": [
    {
     "name": "stdout",
     "output_type": "stream",
     "text": [
      "0\n"
     ]
    }
   ],
   "source": [
    "print(len(train_input))"
   ]
  },
  {
   "cell_type": "code",
   "execution_count": 7,
   "metadata": {},
   "outputs": [],
   "source": [
    "# 创建一个四维张量\n",
    "zeros = torch.zeros((len(train_input), 3, 10, 5))\n",
    "# zeros = torch.zeros(600x31, 3, 10, 5)(假设每个optID的数据都是40条) 但其实是33210个\n",
    "for i in range(zeros.shape[0]):\n",
    "    zeros[i] = train_input[i]\n",
    "train_input = zeros\n",
    "# 将train_input由列表转换为张量\n",
    "# 现在的train_input应该长\n",
    "# tensor(input_1, input_2, ..., input_33210) 其中input_1=[3,10,5]"
   ]
  },
  {
   "cell_type": "code",
   "execution_count": 9,
   "metadata": {},
   "outputs": [
    {
     "name": "stdout",
     "output_type": "stream",
     "text": [
      "Shape of the Training Input: torch.Size([33210, 3, 10, 5])\n"
     ]
    }
   ],
   "source": [
    "print(\"Shape of the Training Input:\", train_input.shape)"
   ]
  },
  {
   "cell_type": "code",
   "execution_count": 10,
   "metadata": {},
   "outputs": [
    {
     "name": "stdout",
     "output_type": "stream",
     "text": [
      "Shape of the Training Label: torch.Size([33210])\n"
     ]
    }
   ],
   "source": [
    "train_label = torch.tensor(train_label)\n",
    "print(\"Shape of the Training Label:\", train_label.shape)"
   ]
  },
  {
   "cell_type": "markdown",
   "metadata": {},
   "source": [
    "对test_data_csv做同样的操作，pandas+numpy-->list---pytorch---tensor"
   ]
  },
  {
   "cell_type": "code",
   "execution_count": 8,
   "metadata": {},
   "outputs": [],
   "source": [
    "test_input = []\n",
    "test_label = []"
   ]
  },
  {
   "cell_type": "markdown",
   "metadata": {},
   "source": [
    "滑动窗口"
   ]
  },
  {
   "cell_type": "code",
   "execution_count": null,
   "metadata": {},
   "outputs": [],
   "source": [
    "for i in trange(test_data['optID'].unique().shape[0]):\n",
    "    for index in range(test_data.loc[(test_data['optID'] == test_data['optID'].unique()[i])].shape[0] - seq_len+1):\n",
    "        input = torch.zeros((3, 10, 5))\n",
    "        tmp_input = np.array(test_data.loc[(test_data['optID'] == test_data['optID'].unique()[i])][index:index+seq_len])\n",
    "        input[0, :] = torch.tensor(np.array(tmp_input[0:seq_len, 3:8], dtype=np.float64))\n",
    "        input[1, :] = torch.tensor(np.array(tmp_input[0:seq_len, 8:13], dtype=np.float64))\n",
    "        input[2, :] = torch.tensor(np.array(tmp_input[0:seq_len, 13:18], dtype=np.float64))\n",
    "        label = torch.tensor(np.array(tmp_input[seq_len-1, 18], dtype=np.float64))\n",
    "        test_input.append(input)\n",
    "        test_label.append(label)\n"
   ]
  },
  {
   "cell_type": "markdown",
   "metadata": {},
   "source": [
    "数据转换为张量"
   ]
  },
  {
   "cell_type": "code",
   "execution_count": 25,
   "metadata": {},
   "outputs": [],
   "source": [
    "zeros = torch.zeros((len(test_input), 3, 10, 5))"
   ]
  },
  {
   "cell_type": "code",
   "execution_count": 26,
   "metadata": {},
   "outputs": [],
   "source": [
    "for i in range(zeros.shape[0]):\n",
    "    zeros[i] = test_input[i]\n",
    "test_input = zeros"
   ]
  },
  {
   "cell_type": "code",
   "execution_count": 18,
   "metadata": {},
   "outputs": [
    {
     "name": "stdout",
     "output_type": "stream",
     "text": [
      "Shape of the Test Input: torch.Size([11386, 3, 10, 5])\n"
     ]
    }
   ],
   "source": [
    "print(\"Shape of the Test Input:\", test_input.shape)"
   ]
  },
  {
   "cell_type": "code",
   "execution_count": 27,
   "metadata": {},
   "outputs": [
    {
     "name": "stdout",
     "output_type": "stream",
     "text": [
      "Shape of the Test Label: torch.Size([11386])\n"
     ]
    }
   ],
   "source": [
    "test_label = torch.tensor(test_label)\n",
    "print(\"Shape of the Test Label:\", test_label.shape)"
   ]
  },
  {
   "cell_type": "markdown",
   "metadata": {},
   "source": [
    "存储为pt"
   ]
  },
  {
   "cell_type": "code",
   "execution_count": null,
   "metadata": {},
   "outputs": [],
   "source": [
    "#torch.save(train_input, r\".\\3DTensor-basedDL4OptionPricing\\data_ipynb\\torch-data-ipynb\\train_input.pt\")\n",
    "#torch.save(train_label, r\".\\3DTensor-basedDL4OptionPricing\\data_ipynb\\torch-data-ipynb\\train_label.pt\")\n",
    "torch.save(test_input, r\".\\3DTensor-basedDL4OptionPricing\\data_ipynb\\torch-data-ipynb\\test_input(alpha=1.25).pt\")\n",
    "torch.save(test_label, r\".\\3DTensor-basedDL4OptionPricing\\data_ipynb\\torch-data-ipynb\\test_label(alpha=1.25).pt\")"
   ]
  },
  {
   "cell_type": "markdown",
   "metadata": {},
   "source": [
    "通道0：基础期权数据 \\\n",
    "特征：[inventory(k), contractType, dayToExpire, iv, strikePrice] \\\n",
    "​通道1：希腊字母数据 \\\n",
    "特征：[delta, gamma, rho, theta, vega] \\\n",
    "​通道2：价格相关数据 \\\n",
    "特征：[pre_settlePrice, settlePrice_chg, spotPrice, theoryMargin, theoryPrice] \n",
    "### train_input.pt 和 test_input.pt\n",
    "# 一个样本示例 (3,10,5)\n",
    "[\n",
    "    # 通道0 - 基础数据\n",
    "    [\n",
    "        [3.275, 0, 72, 25.4, 2.651],  # 第1天\n",
    "        [3.495, 0, 71, 24.9, 2.651],  # 第2天\n",
    "        ...                           # 第3-9天\n",
    "        [3.76, 0, 54, 25.8, 2.651]    # 第10天\n",
    "    ],\n",
    "    \n",
    "    # 通道1 - 希腊字母\n",
    "    [\n",
    "        [1, 0, 0.0052, -3.00E-04, 0],        # 第1天\n",
    "        [0.0442, 35.7966, 2.00E-04, 0, 0.0011], # 第2天\n",
    "        ...                                   # 第3-9天\n",
    "        [0.5114, 2.1162, 0.0019, -8.00E-04, 0.004] # 第10天\n",
    "    ],\n",
    "    \n",
    "    # 通道2 - 价格数据\n",
    "    [\n",
    "        [0.1653, -20.4, 2.655, -0.1068, 0.0248],  # 第1天\n",
    "        [0.1303, -13.4, 2.626, -0.1128, 0],       # 第2天\n",
    "        ...                                       # 第3-9天\n",
    "        [0.114, -8.9, 2.634, -0.0293, 0.0745]     # 第10天\n",
    "    ]\n",
    "]\n",
    "\n",
    "### train_label.pt 和 test_label.pt\n",
    "# 对应于上面示例样本的标签\n",
    "tensor(0.1316)  # 第10天的结算价"
   ]
  }
 ],
 "metadata": {
  "kernelspec": {
   "display_name": "venv",
   "language": "python",
   "name": "python3"
  },
  "language_info": {
   "codemirror_mode": {
    "name": "ipython",
    "version": 3
   },
   "file_extension": ".py",
   "mimetype": "text/x-python",
   "name": "python",
   "nbconvert_exporter": "python",
   "pygments_lexer": "ipython3",
   "version": "3.11.9"
  }
 },
 "nbformat": 4,
 "nbformat_minor": 2
}
