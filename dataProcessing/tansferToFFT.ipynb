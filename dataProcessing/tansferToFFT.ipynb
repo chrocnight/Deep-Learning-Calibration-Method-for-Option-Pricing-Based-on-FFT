{
 "cells": [
  {
   "cell_type": "code",
   "execution_count": null,
   "metadata": {},
   "outputs": [],
   "source": [
    "import pandas as pd\n",
    "\n",
    "df_original = pd.read_csv(r'.\\3DTensor-basedDL4OptionPricing\\data_ipynb\\test_data.csv')\n",
    "df_fft = pd.read_csv(r'.\\3DTensor-basedDL4OptionPricing\\data_ipynb\\lewis_fft_results.csv')\n",
    "df_original['theoryPrice'] = df_fft['theoryPrice'].round(4)\n",
    "\n",
    "# index=False 不将 Dataframe的行索引写入csv\n",
    "df_original.to_csv(r'.\\3DTensor-basedDL4OptionPricing\\data_ipynb\\test_data(lewis_fft).csv', index=False)\n",
    "\n",
    "print(\"替换完成，新文件已保存为 test_data(alpha=1.25).csv\")\n"
   ]
  }
 ],
 "metadata": {
  "kernelspec": {
   "display_name": "venv",
   "language": "python",
   "name": "python3"
  },
  "language_info": {
   "codemirror_mode": {
    "name": "ipython",
    "version": 3
   },
   "file_extension": ".py",
   "mimetype": "text/x-python",
   "name": "python",
   "nbconvert_exporter": "python",
   "pygments_lexer": "ipython3",
   "version": "3.11.9"
  }
 },
 "nbformat": 4,
 "nbformat_minor": 2
}
