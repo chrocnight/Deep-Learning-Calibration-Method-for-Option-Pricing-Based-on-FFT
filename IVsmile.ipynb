{
 "cells": [
  {
   "cell_type": "code",
   "execution_count": null,
   "id": "afef766a",
   "metadata": {},
   "outputs": [],
   "source": [
    "from FMNM.Parameters import Option_param\n",
    "from FMNM.Processes import Diffusion_process, Merton_process, VG_process, Heston_process\n",
    "from FMNM.BS_pricer import BS_pricer\n",
    "from FMNM.Merton_pricer import Merton_pricer\n",
    "from FMNM.VG_pricer import VG_pricer\n",
    "from FMNM.Heston_pricer import Heston_pricer\n",
    "\n",
    "import numpy as np\n",
    "import pandas as pd\n",
    "import scipy as scp\n",
    "import scipy.stats as ss\n",
    "import matplotlib.pyplot as plt\n",
    "import scipy.optimize as scpo\n",
    "from functools import partial\n",
    "from itertools import compress\n",
    "import os\n",
    "import warnings\n",
    "\n",
    "warnings.filterwarnings(\"ignore\")"
   ]
  },
  {
   "cell_type": "code",
   "execution_count": null,
   "id": "42128df9",
   "metadata": {},
   "outputs": [],
   "source": [
    "T = 1\n",
    "S0 = 100\n",
    "K = 100\n",
    "opt_param = Option_param(S0=S0, K=K, T=T, v0=0.04, exercise=\"European\", payoff=\"call\")\n",
    "\n",
    "diff_param = Diffusion_process(r=0.1, sig=0.2)\n",
    "Merton_param = Merton_process(r=0.1, sig=0.1, lam=0.8, muJ=-0.04, sigJ=0.2)\n",
    "VG_param = VG_process(r=0.1, theta=-0.09, sigma=0.19, kappa=0.6)\n",
    "Heston_param = Heston_process(mu=0.1, rho=-0.3, sigma=0.6, theta=0.04, kappa=5)\n",
    "\n",
    "BS = BS_pricer(opt_param, diff_param)\n",
    "VG = VG_pricer(opt_param, VG_param)\n",
    "Mert = Merton_pricer(opt_param, Merton_param)\n",
    "Hest = Heston_pricer(opt_param, Heston_param)"
   ]
  },
  {
   "cell_type": "code",
   "execution_count": null,
   "id": "17f488cc",
   "metadata": {},
   "outputs": [],
   "source": [
    "strikes = np.arange(50, 151, 5)  # strike grid\n",
    "BS_prices = BS.FFT(strikes)\n",
    "Mert_prices = Mert.FFT(strikes)\n",
    "Hest_prices = Hest.FFT(strikes)\n",
    "VG_prices = VG.FFT(strikes)"
   ]
  },
  {
   "cell_type": "code",
   "execution_count": null,
   "id": "0e800c66",
   "metadata": {},
   "outputs": [],
   "source": [
    "# Closed formula prices\n",
    "BS_prices_cl = np.zeros_like(strikes, dtype=float)\n",
    "VG_prices_cl = np.zeros_like(strikes, dtype=float)\n",
    "Mert_prices_cl = np.zeros_like(strikes, dtype=float)\n",
    "Hest_prices_cl = np.zeros_like(strikes, dtype=float)\n",
    "\n",
    "for i, K in enumerate(strikes):\n",
    "    BS.K = K\n",
    "    VG.K = K\n",
    "    Mert.K = K\n",
    "    Hest.K = K\n",
    "    BS_prices_cl[i] = BS.closed_formula()\n",
    "    VG_prices_cl[i] = VG.Fourier_inversion()\n",
    "    Mert_prices_cl[i] = Mert.closed_formula()\n",
    "    Hest_prices_cl[i] = Hest.Fourier_inversion()"
   ]
  },
  {
   "cell_type": "code",
   "execution_count": null,
   "id": "efbe8f04",
   "metadata": {},
   "outputs": [],
   "source": [
    "print(\"Closed vs FFT. Total absolute error BS: \", np.linalg.norm(BS_prices - BS_prices_cl, 1))\n",
    "print(\"Closed vs FFT. Total absolute error VG: \", np.linalg.norm(VG_prices - VG_prices_cl, 1))\n",
    "print(\"Closed vs FFT. Total absolute error Merton: \", np.linalg.norm(Mert_prices - Mert_prices_cl, 1))\n",
    "print(\"Closed vs FFT. Total absolute error Heston: \", np.linalg.norm(Hest_prices - Hest_prices_cl, 1))"
   ]
  },
  {
   "cell_type": "code",
   "execution_count": null,
   "id": "6a8b5020",
   "metadata": {},
   "outputs": [],
   "source": [
    "def implied_volatility(price, S0, K, T, r, payoff=\"call\", method=\"fsolve\", disp=True):\n",
    "    \"\"\"Returns Implied volatility\n",
    "    methods:  fsolve (default) or brent\n",
    "    \"\"\"\n",
    "\n",
    "    def obj_fun(vol):\n",
    "        return price - BS.BlackScholes(payoff=payoff, S0=S0, K=K, T=T, r=r, sigma=vol)\n",
    "\n",
    "    if method == \"brent\":\n",
    "        x, r = scpo.brentq(obj_fun, a=1e-15, b=500, full_output=True)\n",
    "        if r.converged == True:\n",
    "            return x\n",
    "    if method == \"fsolve\":\n",
    "        X0 = [0.1, 0.5, 1, 3]  # set of initial guess points\n",
    "        for x0 in X0:\n",
    "            x, _, solved, _ = scpo.fsolve(obj_fun, x0, full_output=True, xtol=1e-8)\n",
    "            if solved == 1:\n",
    "                return x[0]\n",
    "\n",
    "    if disp == True:\n",
    "        print(\"Strike\", K)\n",
    "    return -1"
   ]
  },
  {
   "cell_type": "code",
   "execution_count": null,
   "id": "48629ec1",
   "metadata": {},
   "outputs": [],
   "source": [
    "def implied_vol_minimize(price, S0, K, T, r, payoff=\"call\", disp=True):\n",
    "    \"\"\"Returns Implied volatility by minimization\"\"\"\n",
    "\n",
    "    n = 2  # must be even\n",
    "\n",
    "    def obj_fun(vol):\n",
    "        return (BS.BlackScholes(payoff=payoff, S0=S0, K=K, T=T, r=r, sigma=vol) - price) ** n\n",
    "\n",
    "    res = scpo.minimize_scalar(obj_fun, bounds=(1e-15, 8), method=\"bounded\")\n",
    "    if res.success == True:\n",
    "        return res.x\n",
    "    if disp == True:\n",
    "        print(\"Strike\", K)\n",
    "    return -1"
   ]
  },
  {
   "cell_type": "code",
   "execution_count": null,
   "id": "120988ec",
   "metadata": {},
   "outputs": [],
   "source": [
    "IV_BS = []\n",
    "IV_VG = []\n",
    "IV_Mert = []\n",
    "IV_Hest = []\n",
    "for i in range(len(strikes)):\n",
    "    IV_BS.append(implied_volatility(BS_prices[i], S0=100, K=strikes[i], T=T, r=0.1))\n",
    "    IV_VG.append(implied_volatility(VG_prices[i], S0=100, K=strikes[i], T=T, r=0.1))\n",
    "    IV_Mert.append(implied_volatility(Mert_prices[i], S0=100, K=strikes[i], T=T, r=0.1))\n",
    "    IV_Hest.append(implied_volatility(Hest_prices[i], S0=100, K=strikes[i], T=T, r=0.1))"
   ]
  },
  {
   "cell_type": "code",
   "execution_count": null,
   "id": "9ede87ef",
   "metadata": {},
   "outputs": [],
   "source": [
    "IV_BS_m = []\n",
    "IV_VG_m = []\n",
    "IV_Mert_m = []\n",
    "IV_Hest_m = []\n",
    "for i in range(len(strikes)):\n",
    "    IV_BS_m.append(implied_vol_minimize(BS_prices[i], S0=100, K=strikes[i], T=T, r=0.1))\n",
    "    IV_VG_m.append(implied_vol_minimize(VG_prices[i], S0=100, K=strikes[i], T=T, r=0.1))\n",
    "    IV_Mert_m.append(implied_vol_minimize(Mert_prices[i], S0=100, K=strikes[i], T=T, r=0.1))\n",
    "    IV_Hest_m.append(implied_vol_minimize(Hest_prices[i], S0=100, K=strikes[i], T=T, r=0.1))"
   ]
  },
  {
   "cell_type": "code",
   "execution_count": null,
   "id": "882134b1",
   "metadata": {},
   "outputs": [],
   "source": [
    "print(\n",
    "    \" Are the IV values obtained by the methods above equal? \",\n",
    "    np.allclose(np.array(IV_BS), np.array(IV_BS_m))\n",
    "    & np.allclose(np.array(IV_VG), np.array(IV_VG_m))\n",
    "    & np.allclose(np.array(IV_Mert), np.array(IV_Mert_m))\n",
    "    & np.allclose(np.array(IV_Hest), np.array(IV_Hest_m)),\n",
    ")"
   ]
  },
  {
   "cell_type": "code",
   "execution_count": null,
   "id": "c4094c6d",
   "metadata": {},
   "outputs": [],
   "source": [
    "fig = plt.figure(figsize=(16, 4))\n",
    "ax1 = fig.add_subplot(121)\n",
    "ax2 = fig.add_subplot(122)\n",
    "ax1.plot(strikes, BS_prices, label=\"BS\")\n",
    "ax1.plot(strikes, VG_prices, label=\"VG\")\n",
    "ax1.set_xlim([80, 150])\n",
    "ax1.set_ylim([0, 30])\n",
    "ax1.plot(strikes, Mert_prices, label=\"Mert\")\n",
    "ax1.plot(strikes, Hest_prices, label=\"Hest\")\n",
    "ax1.set_title(\"Comparison of prices\")\n",
    "ax1.set_xlabel(\"Strike\")\n",
    "ax1.set_ylabel(\"Price\")\n",
    "ax2.plot(strikes, IV_BS, label=\"BS\")\n",
    "ax2.plot(strikes, IV_VG, label=\"VG\")\n",
    "ax2.plot(strikes, IV_Mert, label=\"Mert\")\n",
    "ax2.plot(strikes, IV_Hest, label=\"Hest\")\n",
    "ax2.set_title(\"Comparison of Implied volatilities\")\n",
    "ax2.set_xlabel(\"Strike\")\n",
    "ax2.set_ylabel(\"Imp Vol\")\n",
    "ax1.legend()\n",
    "ax2.legend()\n",
    "plt.show()"
   ]
  }
 ],
 "metadata": {
  "kernelspec": {
   "display_name": "venv",
   "language": "python",
   "name": "python3"
  },
  "language_info": {
   "codemirror_mode": {
    "name": "ipython",
    "version": 3
   },
   "file_extension": ".py",
   "mimetype": "text/x-python",
   "name": "python",
   "nbconvert_exporter": "python",
   "pygments_lexer": "ipython3",
   "version": "3.11.9"
  }
 },
 "nbformat": 4,
 "nbformat_minor": 5
}
